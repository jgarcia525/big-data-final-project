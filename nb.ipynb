{
 "cells": [
  {
   "cell_type": "code",
   "execution_count": 5,
   "metadata": {},
   "outputs": [
    {
     "ename": "NameError",
     "evalue": "name 'naive_bayes' is not defined",
     "output_type": "error",
     "traceback": [
      "\u001b[0;31m---------------------------------------------------------------------------\u001b[0m",
      "\u001b[0;31mNameError\u001b[0m                                 Traceback (most recent call last)",
      "\u001b[0;32m<ipython-input-5-9d3d97ffa63b>\u001b[0m in \u001b[0;36m<module>\u001b[0;34m\u001b[0m\n\u001b[1;32m     49\u001b[0m \u001b[0;34m\u001b[0m\u001b[0m\n\u001b[1;32m     50\u001b[0m \u001b[0;31m# train using nb\u001b[0m\u001b[0;34m\u001b[0m\u001b[0;34m\u001b[0m\u001b[0;34m\u001b[0m\u001b[0m\n\u001b[0;32m---> 51\u001b[0;31m \u001b[0mclf\u001b[0m \u001b[0;34m=\u001b[0m \u001b[0mnaive_bayes\u001b[0m\u001b[0;34m.\u001b[0m\u001b[0mMultinomialNB\u001b[0m\u001b[0;34m(\u001b[0m\u001b[0;34m)\u001b[0m\u001b[0;34m\u001b[0m\u001b[0;34m\u001b[0m\u001b[0m\n\u001b[0m\u001b[1;32m     52\u001b[0m \u001b[0mclf\u001b[0m\u001b[0;34m.\u001b[0m\u001b[0mfit\u001b[0m\u001b[0;34m(\u001b[0m\u001b[0mX_train\u001b[0m\u001b[0;34m,\u001b[0m \u001b[0my_train\u001b[0m\u001b[0;34m)\u001b[0m\u001b[0;34m\u001b[0m\u001b[0;34m\u001b[0m\u001b[0m\n\u001b[1;32m     53\u001b[0m \u001b[0;31m#clf.fit(X_train, y_train)\u001b[0m\u001b[0;34m\u001b[0m\u001b[0;34m\u001b[0m\u001b[0;34m\u001b[0m\u001b[0m\n",
      "\u001b[0;31mNameError\u001b[0m: name 'naive_bayes' is not defined"
     ]
    }
   ],
   "source": [
    "import pandas as pd\n",
    "import string\n",
    "from pandas import DataFrame\n",
    "from nltk.corpus import stopwords\n",
    "from sklearn.feature_extraction.text import CountVectorizer, TfidfVectorizer\n",
    "from sklearn import svm\n",
    "from sklearn.metrics import roc_auc_score, confusion_matrix\n",
    "from collections import Counter\n",
    "from sklearn.datasets import make_classification\n",
    "from imblearn.over_sampling import SMOTE, ADASYN\n",
    "from sklearn import naive_bayes\n",
    "\n",
    " \n",
    "# function to create dataframes for text and sentiment\n",
    "def sentimentDataFrame(filename):\n",
    "    \n",
    "    df = pd.read_csv(filename, header=None, encoding=\"latin\")\n",
    "   \n",
    "    # data structure for text and sentiment\n",
    "    sentiments = []\n",
    "    tweets = []\n",
    "    \n",
    "    # df.shape[0]\n",
    "    \n",
    "    for i in range (2, 100):\n",
    "            \n",
    "        sentiment = df.iloc[i][3]\n",
    "        sentiments.append(sentiment)\n",
    "        \n",
    "        tweet = df.iloc[i][8]\n",
    "        tweets.append(tweet)\n",
    "        \n",
    "        # print (\"Sentiment: \", sentiment)\n",
    "        # print (\"Tweet: \", tweet)\n",
    "   \n",
    "           \n",
    "    # creating DataFrame out of text and sentiment\n",
    "    df = DataFrame({'tweets':tweets, 'sentiments':sentiments})\n",
    "    return df\n",
    "\n",
    " \n",
    "# Vectorizer - used to convert reviews from text to features\n",
    "vectorizer = CountVectorizer()\n",
    "\n",
    "# dataframes for train and test dataset\n",
    "train_df = sentimentDataFrame(\"training-clean.csv\")\n",
    "X_train, y_train = vectorizer.fit_transform(train_df.tweets.astype('U')), train_df.sentiments\n",
    "\n",
    "test_df = sentimentDataFrame(\"testing-clean.csv\")\n",
    "X_test, y_test = vectorizer.transform(test_df.tweets.astype('U')), test_df.sentiments\n",
    "\n",
    "# train using nb\n",
    "clf = naive_bayes.MultinomialNB()\n",
    "clf.fit(X_train, y_train)\n",
    "#clf.fit(X_train, y_train)\n",
    "\n",
    "# test models accuracy\n",
    "print (\"Model Accuracy: \", clf.score(X_test, y_test))\n",
    "\n",
    "predicted_y = clf.predict(X_test)\n",
    "tn, fp, fn, tp = confusion_matrix(y_test, predicted_y).ravel()\n",
    "precision_score = tp / (tp + fp)\n",
    "recall_score = tp / (tp + fn)\n",
    "print (\"Precision Score: \", precision_score)\n",
    "print (\"Recall Score: \", recall_score)"
   ]
  },
  {
   "cell_type": "code",
   "execution_count": 1,
   "metadata": {},
   "outputs": [],
   "source": []
  },
  {
   "cell_type": "code",
   "execution_count": null,
   "metadata": {},
   "outputs": [],
   "source": []
  }
 ],
 "metadata": {
  "kernelspec": {
   "display_name": "Python 3",
   "language": "python",
   "name": "python3"
  },
  "language_info": {
   "codemirror_mode": {
    "name": "ipython",
    "version": 3
   },
   "file_extension": ".py",
   "mimetype": "text/x-python",
   "name": "python",
   "nbconvert_exporter": "python",
   "pygments_lexer": "ipython3",
   "version": "3.7.1"
  }
 },
 "nbformat": 4,
 "nbformat_minor": 2
}
